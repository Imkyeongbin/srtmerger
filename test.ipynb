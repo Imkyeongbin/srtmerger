{
 "cells": [
  {
   "cell_type": "code",
   "execution_count": null,
   "metadata": {},
   "outputs": [],
   "source": [
    "from merger.merger import Merger\n",
    "import gradio as gr\n",
    "import os\n",
    "\n",
    "\n",
    "def merge_subtitles(left_files, right_files, output_folder = os.path.curdir):\n",
    "    if len(left_files) != len(right_files):\n",
    "        return \"두 리스트의 파일 수가 동일하지 않습니다.\"\n",
    "\n",
    "    # 파일들을 순서대로 병합하는 로직 구현\n",
    "    # 예: \n",
    "    # for file1, file2 in zip(left_files, right_files):\n",
    "    #     merge_logic(file1, file2)\n",
    "\n",
    "    return \"병합 완료!\"\n",
    "\n",
    "interface = gr.Interface(\n",
    "    fn=merge_subtitles,\n",
    "    inputs=[\n",
    "        gr.Files(label=\"병합할 파일 1\"),\n",
    "        gr.Files(label=\"병합할 파일 2\"),\n",
    "        gr.Text(label=\"파일 디렉토리\"),\n",
    "        gr.Text(label=\"파일명\"),\n",
    "    ],\n",
    "    outputs=gr.Files(label=\"병합된 파일\"),\n",
    ")\n",
    "\n",
    "\n",
    "interface.launch()\n"
   ]
  }
 ],
 "metadata": {
  "kernelspec": {
   "display_name": "base",
   "language": "python",
   "name": "python3"
  },
  "language_info": {
   "codemirror_mode": {
    "name": "ipython",
    "version": 3
   },
   "file_extension": ".py",
   "mimetype": "text/x-python",
   "name": "python",
   "nbconvert_exporter": "python",
   "pygments_lexer": "ipython3",
   "version": "3.11.4"
  },
  "orig_nbformat": 4
 },
 "nbformat": 4,
 "nbformat_minor": 2
}
